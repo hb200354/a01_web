{
 "cells": [
  {
   "cell_type": "markdown",
   "id": "f637f9e9",
   "metadata": {},
   "source": [
    "> VScode live server 오류 발생 시 "
   ]
  },
  {
   "cell_type": "markdown",
   "id": "f4047f37",
   "metadata": {},
   "source": [
    "https://dev-handbook.tistory.com/19"
   ]
  }
 ],
 "metadata": {
  "language_info": {
   "name": "python"
  }
 },
 "nbformat": 4,
 "nbformat_minor": 5
}
